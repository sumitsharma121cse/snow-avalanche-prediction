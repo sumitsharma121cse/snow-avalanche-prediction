{
  "nbformat": 4,
  "nbformat_minor": 0,
  "metadata": {
    "colab": {
      "name": "gaussian kernel svm dataset 1 avalanche.ipynb",
      "provenance": [],
      "collapsed_sections": []
    },
    "kernelspec": {
      "name": "python3",
      "display_name": "Python 3"
    },
    "language_info": {
      "name": "python"
    }
  },
  "cells": [
    {
      "cell_type": "code",
      "metadata": {
        "id": "kb4ZULapXAK9"
      },
      "source": [
        "import pandas as pd\n",
        "import numpy as np\n",
        "import seaborn as sns\n",
        "import matplotlib.pyplot as plt"
      ],
      "execution_count": 1,
      "outputs": []
    },
    {
      "cell_type": "code",
      "metadata": {
        "colab": {
          "base_uri": "https://localhost:8080/",
          "height": 406
        },
        "id": "6JMtZVFjYSZU",
        "outputId": "904da00d-2546-427c-f42f-1ac94a8a6420"
      },
      "source": [
        "dataset=pd.read_csv(\"Avalanche.csv\")\n",
        "dataset"
      ],
      "execution_count": 2,
      "outputs": [
        {
          "output_type": "execute_result",
          "data": {
            "text/html": [
              "<div>\n",
              "<style scoped>\n",
              "    .dataframe tbody tr th:only-of-type {\n",
              "        vertical-align: middle;\n",
              "    }\n",
              "\n",
              "    .dataframe tbody tr th {\n",
              "        vertical-align: top;\n",
              "    }\n",
              "\n",
              "    .dataframe thead th {\n",
              "        text-align: right;\n",
              "    }\n",
              "</style>\n",
              "<table border=\"1\" class=\"dataframe\">\n",
              "  <thead>\n",
              "    <tr style=\"text-align: right;\">\n",
              "      <th></th>\n",
              "      <th>Slope</th>\n",
              "      <th>Forest Density</th>\n",
              "      <th>Snow Density</th>\n",
              "      <th>Air Temperature</th>\n",
              "      <th>Wind</th>\n",
              "      <th>Prediction</th>\n",
              "    </tr>\n",
              "  </thead>\n",
              "  <tbody>\n",
              "    <tr>\n",
              "      <th>0</th>\n",
              "      <td>59</td>\n",
              "      <td>H</td>\n",
              "      <td>52</td>\n",
              "      <td>-17</td>\n",
              "      <td>19</td>\n",
              "      <td>2</td>\n",
              "    </tr>\n",
              "    <tr>\n",
              "      <th>1</th>\n",
              "      <td>24</td>\n",
              "      <td>L</td>\n",
              "      <td>23</td>\n",
              "      <td>-8</td>\n",
              "      <td>19</td>\n",
              "      <td>0</td>\n",
              "    </tr>\n",
              "    <tr>\n",
              "      <th>2</th>\n",
              "      <td>15</td>\n",
              "      <td>H</td>\n",
              "      <td>30</td>\n",
              "      <td>7</td>\n",
              "      <td>19</td>\n",
              "      <td>0</td>\n",
              "    </tr>\n",
              "    <tr>\n",
              "      <th>3</th>\n",
              "      <td>27</td>\n",
              "      <td>L</td>\n",
              "      <td>61</td>\n",
              "      <td>-13</td>\n",
              "      <td>25</td>\n",
              "      <td>1</td>\n",
              "    </tr>\n",
              "    <tr>\n",
              "      <th>4</th>\n",
              "      <td>34</td>\n",
              "      <td>H</td>\n",
              "      <td>4</td>\n",
              "      <td>-20</td>\n",
              "      <td>7</td>\n",
              "      <td>0</td>\n",
              "    </tr>\n",
              "    <tr>\n",
              "      <th>...</th>\n",
              "      <td>...</td>\n",
              "      <td>...</td>\n",
              "      <td>...</td>\n",
              "      <td>...</td>\n",
              "      <td>...</td>\n",
              "      <td>...</td>\n",
              "    </tr>\n",
              "    <tr>\n",
              "      <th>199</th>\n",
              "      <td>34</td>\n",
              "      <td>M</td>\n",
              "      <td>44</td>\n",
              "      <td>6</td>\n",
              "      <td>6</td>\n",
              "      <td>0</td>\n",
              "    </tr>\n",
              "    <tr>\n",
              "      <th>200</th>\n",
              "      <td>34</td>\n",
              "      <td>L</td>\n",
              "      <td>73</td>\n",
              "      <td>-34</td>\n",
              "      <td>13</td>\n",
              "      <td>2</td>\n",
              "    </tr>\n",
              "    <tr>\n",
              "      <th>201</th>\n",
              "      <td>34</td>\n",
              "      <td>M</td>\n",
              "      <td>33</td>\n",
              "      <td>13</td>\n",
              "      <td>35</td>\n",
              "      <td>1</td>\n",
              "    </tr>\n",
              "    <tr>\n",
              "      <th>202</th>\n",
              "      <td>34</td>\n",
              "      <td>L</td>\n",
              "      <td>51</td>\n",
              "      <td>-4</td>\n",
              "      <td>35</td>\n",
              "      <td>1</td>\n",
              "    </tr>\n",
              "    <tr>\n",
              "      <th>203</th>\n",
              "      <td>34</td>\n",
              "      <td>M</td>\n",
              "      <td>59</td>\n",
              "      <td>-29</td>\n",
              "      <td>8</td>\n",
              "      <td>2</td>\n",
              "    </tr>\n",
              "  </tbody>\n",
              "</table>\n",
              "<p>204 rows × 6 columns</p>\n",
              "</div>"
            ],
            "text/plain": [
              "     Slope Forest Density  Snow Density  Air Temperature  Wind  Prediction\n",
              "0       59              H            52              -17    19           2\n",
              "1       24              L            23               -8    19           0\n",
              "2       15              H            30                7    19           0\n",
              "3       27              L            61              -13    25           1\n",
              "4       34              H             4              -20     7           0\n",
              "..     ...            ...           ...              ...   ...         ...\n",
              "199     34              M            44                6     6           0\n",
              "200     34              L            73              -34    13           2\n",
              "201     34              M            33               13    35           1\n",
              "202     34              L            51               -4    35           1\n",
              "203     34              M            59              -29     8           2\n",
              "\n",
              "[204 rows x 6 columns]"
            ]
          },
          "metadata": {
            "tags": []
          },
          "execution_count": 2
        }
      ]
    },
    {
      "cell_type": "code",
      "metadata": {
        "id": "BS6E2sDhYUXI"
      },
      "source": [
        "from sklearn.preprocessing import LabelEncoder\n",
        "le  = LabelEncoder()"
      ],
      "execution_count": 3,
      "outputs": []
    },
    {
      "cell_type": "code",
      "metadata": {
        "id": "L-vvL92rYZeD"
      },
      "source": [
        "dataset[\"Forest Density\"] = le.fit_transform(dataset[\"Forest Density\"])"
      ],
      "execution_count": 4,
      "outputs": []
    },
    {
      "cell_type": "code",
      "metadata": {
        "id": "E6RrwqiPYeNz"
      },
      "source": [
        "x = dataset.iloc[:,0:5].values\n",
        "y = dataset.iloc[:,5:6].values"
      ],
      "execution_count": 5,
      "outputs": []
    },
    {
      "cell_type": "code",
      "metadata": {
        "colab": {
          "base_uri": "https://localhost:8080/"
        },
        "id": "4MM-oO6eYihS",
        "outputId": "14dc646b-d186-4940-b3fc-4bacfd51d287"
      },
      "source": [
        "y.shape\n",
        "y.ravel()"
      ],
      "execution_count": 6,
      "outputs": [
        {
          "output_type": "execute_result",
          "data": {
            "text/plain": [
              "array([2, 0, 0, 1, 0, 1, 2, 1, 0, 2, 1, 1, 2, 2, 2, 2, 2, 1, 1, 0, 1, 1,\n",
              "       0, 0, 2, 1, 1, 2, 2, 1, 1, 2, 1, 2, 0, 2, 1, 2, 2, 2, 1, 2, 1, 2,\n",
              "       1, 0, 1, 2, 0, 1, 2, 1, 0, 1, 1, 0, 0, 0, 2, 2, 1, 0, 0, 1, 0, 1,\n",
              "       1, 0, 2, 1, 2, 0, 1, 1, 2, 0, 2, 0, 0, 1, 1, 2, 1, 2, 1, 1, 1, 0,\n",
              "       2, 0, 1, 1, 1, 2, 2, 1, 2, 1, 2, 2, 0, 0, 1, 0, 1, 2, 1, 0, 2, 1,\n",
              "       1, 2, 2, 2, 2, 2, 1, 1, 0, 1, 1, 2, 0, 0, 1, 0, 1, 2, 1, 0, 2, 1,\n",
              "       1, 2, 2, 2, 2, 2, 1, 1, 0, 1, 1, 1, 0, 0, 0, 2, 2, 1, 0, 0, 1, 0,\n",
              "       1, 1, 0, 2, 1, 2, 0, 1, 1, 2, 0, 2, 2, 1, 0, 0, 1, 0, 1, 1, 0, 2,\n",
              "       1, 2, 0, 2, 2, 1, 0, 0, 1, 0, 1, 1, 0, 2, 1, 2, 0, 0, 1, 0, 1, 2,\n",
              "       1, 0, 2, 1, 1, 2])"
            ]
          },
          "metadata": {
            "tags": []
          },
          "execution_count": 6
        }
      ]
    },
    {
      "cell_type": "code",
      "metadata": {
        "id": "dmYlpY98YmUz"
      },
      "source": [
        "from sklearn.model_selection import train_test_split\n",
        "x_train,x_test,y_train,y_test = train_test_split(x,y,test_size=0.20,random_state=0)"
      ],
      "execution_count": 32,
      "outputs": []
    },
    {
      "cell_type": "code",
      "metadata": {
        "colab": {
          "base_uri": "https://localhost:8080/"
        },
        "id": "0LLEN4dqYyAv",
        "outputId": "2154fed4-d889-48e0-908b-80efb152b6a1"
      },
      "source": [
        "from sklearn.svm import SVC\n",
        "svclassifier = SVC(kernel='rbf')\n",
        "svclassifier.fit(x_train, y_train)"
      ],
      "execution_count": 33,
      "outputs": [
        {
          "output_type": "stream",
          "text": [
            "/usr/local/lib/python3.7/dist-packages/sklearn/utils/validation.py:760: DataConversionWarning: A column-vector y was passed when a 1d array was expected. Please change the shape of y to (n_samples, ), for example using ravel().\n",
            "  y = column_or_1d(y, warn=True)\n"
          ],
          "name": "stderr"
        },
        {
          "output_type": "execute_result",
          "data": {
            "text/plain": [
              "SVC(C=1.0, break_ties=False, cache_size=200, class_weight=None, coef0=0.0,\n",
              "    decision_function_shape='ovr', degree=3, gamma='scale', kernel='rbf',\n",
              "    max_iter=-1, probability=False, random_state=None, shrinking=True,\n",
              "    tol=0.001, verbose=False)"
            ]
          },
          "metadata": {
            "tags": []
          },
          "execution_count": 33
        }
      ]
    },
    {
      "cell_type": "code",
      "metadata": {
        "id": "VmJVKpkhZCSR"
      },
      "source": [
        "y_pred = svclassifier.predict(x_test)"
      ],
      "execution_count": 34,
      "outputs": []
    },
    {
      "cell_type": "code",
      "metadata": {
        "colab": {
          "base_uri": "https://localhost:8080/"
        },
        "id": "Oq3i1cDSZIfl",
        "outputId": "7617ee8d-04a2-454b-da0e-0b7c45629b0c"
      },
      "source": [
        "from sklearn.metrics import classification_report, confusion_matrix\n",
        "print(confusion_matrix(y_test,y_pred))\n",
        "print(classification_report(y_test,y_pred))"
      ],
      "execution_count": 35,
      "outputs": [
        {
          "output_type": "stream",
          "text": [
            "[[11  2  0]\n",
            " [ 3 15  1]\n",
            " [ 0  3  6]]\n",
            "              precision    recall  f1-score   support\n",
            "\n",
            "           0       0.79      0.85      0.81        13\n",
            "           1       0.75      0.79      0.77        19\n",
            "           2       0.86      0.67      0.75         9\n",
            "\n",
            "    accuracy                           0.78        41\n",
            "   macro avg       0.80      0.77      0.78        41\n",
            "weighted avg       0.78      0.78      0.78        41\n",
            "\n"
          ],
          "name": "stdout"
        }
      ]
    },
    {
      "cell_type": "code",
      "metadata": {
        "colab": {
          "base_uri": "https://localhost:8080/"
        },
        "id": "UiS_q2-IZVVA",
        "outputId": "9fe5568f-bb71-430b-8550-ce2075595726"
      },
      "source": [
        "from sklearn import metrics\n",
        "print(\"Accuracy:\",metrics.accuracy_score(y_test, y_pred))"
      ],
      "execution_count": 36,
      "outputs": [
        {
          "output_type": "stream",
          "text": [
            "Accuracy: 0.7804878048780488\n"
          ],
          "name": "stdout"
        }
      ]
    },
    {
      "cell_type": "code",
      "metadata": {
        "id": "zitp1kq1aBI-"
      },
      "source": [
        ""
      ],
      "execution_count": null,
      "outputs": []
    }
  ]
}