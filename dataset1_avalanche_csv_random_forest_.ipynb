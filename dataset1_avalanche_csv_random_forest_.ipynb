{
  "nbformat": 4,
  "nbformat_minor": 0,
  "metadata": {
    "colab": {
      "name": "dataset1 avalanche.csv random forest .ipynb",
      "provenance": [],
      "collapsed_sections": []
    },
    "kernelspec": {
      "name": "python3",
      "display_name": "Python 3"
    },
    "language_info": {
      "name": "python"
    }
  },
  "cells": [
    {
      "cell_type": "code",
      "metadata": {
        "id": "G1C2vQyBGQXx"
      },
      "source": [
        "import numpy as np\n",
        "import pandas as pd\n",
        "import matplotlib.pyplot as plt\n",
        "import seaborn as sns\n",
        "import scipy.stats as stats\n",
        "from sklearn.compose import ColumnTransformer\n",
        "from sklearn.preprocessing import OneHotEncoder as One\n",
        "from sklearn.model_selection import train_test_split\n",
        "from sklearn.ensemble import RandomForestClassifier\n",
        "from sklearn.tree import DecisionTreeClassifier\n",
        "from sklearn.metrics import accuracy_score,classification_report,confusion_matrix\n",
        "import pickle"
      ],
      "execution_count": 1,
      "outputs": []
    },
    {
      "cell_type": "code",
      "metadata": {
        "colab": {
          "base_uri": "https://localhost:8080/",
          "height": 204
        },
        "id": "t4lnnGgWGqM2",
        "outputId": "c6753535-a51e-4b00-9558-ed83a3374837"
      },
      "source": [
        "df = pd.read_csv('./Avalanche.csv')\n",
        "df.head()"
      ],
      "execution_count": 2,
      "outputs": [
        {
          "output_type": "execute_result",
          "data": {
            "text/html": [
              "<div>\n",
              "<style scoped>\n",
              "    .dataframe tbody tr th:only-of-type {\n",
              "        vertical-align: middle;\n",
              "    }\n",
              "\n",
              "    .dataframe tbody tr th {\n",
              "        vertical-align: top;\n",
              "    }\n",
              "\n",
              "    .dataframe thead th {\n",
              "        text-align: right;\n",
              "    }\n",
              "</style>\n",
              "<table border=\"1\" class=\"dataframe\">\n",
              "  <thead>\n",
              "    <tr style=\"text-align: right;\">\n",
              "      <th></th>\n",
              "      <th>Slope</th>\n",
              "      <th>Forest Density</th>\n",
              "      <th>Snow Density</th>\n",
              "      <th>Air Temperature</th>\n",
              "      <th>Wind</th>\n",
              "      <th>Prediction</th>\n",
              "    </tr>\n",
              "  </thead>\n",
              "  <tbody>\n",
              "    <tr>\n",
              "      <th>0</th>\n",
              "      <td>59</td>\n",
              "      <td>H</td>\n",
              "      <td>52</td>\n",
              "      <td>-17</td>\n",
              "      <td>19</td>\n",
              "      <td>2</td>\n",
              "    </tr>\n",
              "    <tr>\n",
              "      <th>1</th>\n",
              "      <td>24</td>\n",
              "      <td>L</td>\n",
              "      <td>23</td>\n",
              "      <td>-8</td>\n",
              "      <td>19</td>\n",
              "      <td>0</td>\n",
              "    </tr>\n",
              "    <tr>\n",
              "      <th>2</th>\n",
              "      <td>15</td>\n",
              "      <td>H</td>\n",
              "      <td>30</td>\n",
              "      <td>7</td>\n",
              "      <td>19</td>\n",
              "      <td>0</td>\n",
              "    </tr>\n",
              "    <tr>\n",
              "      <th>3</th>\n",
              "      <td>27</td>\n",
              "      <td>L</td>\n",
              "      <td>61</td>\n",
              "      <td>-13</td>\n",
              "      <td>25</td>\n",
              "      <td>1</td>\n",
              "    </tr>\n",
              "    <tr>\n",
              "      <th>4</th>\n",
              "      <td>34</td>\n",
              "      <td>H</td>\n",
              "      <td>4</td>\n",
              "      <td>-20</td>\n",
              "      <td>7</td>\n",
              "      <td>0</td>\n",
              "    </tr>\n",
              "  </tbody>\n",
              "</table>\n",
              "</div>"
            ],
            "text/plain": [
              "   Slope Forest Density  Snow Density  Air Temperature  Wind  Prediction\n",
              "0     59              H            52              -17    19           2\n",
              "1     24              L            23               -8    19           0\n",
              "2     15              H            30                7    19           0\n",
              "3     27              L            61              -13    25           1\n",
              "4     34              H             4              -20     7           0"
            ]
          },
          "metadata": {
            "tags": []
          },
          "execution_count": 2
        }
      ]
    },
    {
      "cell_type": "code",
      "metadata": {
        "colab": {
          "base_uri": "https://localhost:8080/"
        },
        "id": "N2psGp6GGte-",
        "outputId": "249ec11d-4f6a-4824-e21d-8661d28d1179"
      },
      "source": [
        "ct = ColumnTransformer([('one',One(),[1])],remainder='passthrough')\n",
        "df = ct.fit_transform(df)\n",
        "df"
      ],
      "execution_count": 3,
      "outputs": [
        {
          "output_type": "execute_result",
          "data": {
            "text/plain": [
              "array([[  1.,   0.,   0., ..., -17.,  19.,   2.],\n",
              "       [  0.,   1.,   0., ...,  -8.,  19.,   0.],\n",
              "       [  1.,   0.,   0., ...,   7.,  19.,   0.],\n",
              "       ...,\n",
              "       [  0.,   0.,   1., ...,  13.,  35.,   1.],\n",
              "       [  0.,   1.,   0., ...,  -4.,  35.,   1.],\n",
              "       [  0.,   0.,   1., ..., -29.,   8.,   2.]])"
            ]
          },
          "metadata": {
            "tags": []
          },
          "execution_count": 3
        }
      ]
    },
    {
      "cell_type": "code",
      "metadata": {
        "colab": {
          "base_uri": "https://localhost:8080/"
        },
        "id": "Obk9d7u0G6-Y",
        "outputId": "972eff6b-4151-44b1-c4ba-a93b14f2a3d9"
      },
      "source": [
        "x,y = df[:,1:-1],df[:,-1]\n",
        "print(x)\n",
        "print(y)"
      ],
      "execution_count": 4,
      "outputs": [
        {
          "output_type": "stream",
          "text": [
            "[[  0.   0.  59.  52. -17.  19.]\n",
            " [  1.   0.  24.  23.  -8.  19.]\n",
            " [  0.   0.  15.  30.   7.  19.]\n",
            " ...\n",
            " [  0.   1.  34.  33.  13.  35.]\n",
            " [  1.   0.  34.  51.  -4.  35.]\n",
            " [  0.   1.  34.  59. -29.   8.]]\n",
            "[2. 0. 0. 1. 0. 1. 2. 1. 0. 2. 1. 1. 2. 2. 2. 2. 2. 1. 1. 0. 1. 1. 0. 0.\n",
            " 2. 1. 1. 2. 2. 1. 1. 2. 1. 2. 0. 2. 1. 2. 2. 2. 1. 2. 1. 2. 1. 0. 1. 2.\n",
            " 0. 1. 2. 1. 0. 1. 1. 0. 0. 0. 2. 2. 1. 0. 0. 1. 0. 1. 1. 0. 2. 1. 2. 0.\n",
            " 1. 1. 2. 0. 2. 0. 0. 1. 1. 2. 1. 2. 1. 1. 1. 0. 2. 0. 1. 1. 1. 2. 2. 1.\n",
            " 2. 1. 2. 2. 0. 0. 1. 0. 1. 2. 1. 0. 2. 1. 1. 2. 2. 2. 2. 2. 1. 1. 0. 1.\n",
            " 1. 2. 0. 0. 1. 0. 1. 2. 1. 0. 2. 1. 1. 2. 2. 2. 2. 2. 1. 1. 0. 1. 1. 1.\n",
            " 0. 0. 0. 2. 2. 1. 0. 0. 1. 0. 1. 1. 0. 2. 1. 2. 0. 1. 1. 2. 0. 2. 2. 1.\n",
            " 0. 0. 1. 0. 1. 1. 0. 2. 1. 2. 0. 2. 2. 1. 0. 0. 1. 0. 1. 1. 0. 2. 1. 2.\n",
            " 0. 0. 1. 0. 1. 2. 1. 0. 2. 1. 1. 2.]\n"
          ],
          "name": "stdout"
        }
      ]
    },
    {
      "cell_type": "code",
      "metadata": {
        "colab": {
          "base_uri": "https://localhost:8080/"
        },
        "id": "X2AN0bUmG-fP",
        "outputId": "3ef57c64-f7a0-4b4a-9c70-5661958aa545"
      },
      "source": [
        "z = np.abs(stats.zscore(df))\n",
        "outliers = np.where(z>3)\n",
        "outliers"
      ],
      "execution_count": 5,
      "outputs": [
        {
          "output_type": "execute_result",
          "data": {
            "text/plain": [
              "(array([], dtype=int64), array([], dtype=int64))"
            ]
          },
          "metadata": {
            "tags": []
          },
          "execution_count": 5
        }
      ]
    },
    {
      "cell_type": "code",
      "metadata": {
        "id": "S7tlLwBJHBvx"
      },
      "source": [
        "X_train, X_test, y_train, y_test = train_test_split(x, y, test_size=0.20, random_state=0)"
      ],
      "execution_count": 6,
      "outputs": []
    },
    {
      "cell_type": "code",
      "metadata": {
        "colab": {
          "base_uri": "https://localhost:8080/"
        },
        "id": "gDgbCq-tHFTY",
        "outputId": "fa02afa4-74f1-458c-cff5-949adb5f6051"
      },
      "source": [
        "dtree = DecisionTreeClassifier(random_state = 0)\n",
        "dtree.fit(X_train,y_train)"
      ],
      "execution_count": 7,
      "outputs": [
        {
          "output_type": "execute_result",
          "data": {
            "text/plain": [
              "DecisionTreeClassifier(ccp_alpha=0.0, class_weight=None, criterion='gini',\n",
              "                       max_depth=None, max_features=None, max_leaf_nodes=None,\n",
              "                       min_impurity_decrease=0.0, min_impurity_split=None,\n",
              "                       min_samples_leaf=1, min_samples_split=2,\n",
              "                       min_weight_fraction_leaf=0.0, presort='deprecated',\n",
              "                       random_state=0, splitter='best')"
            ]
          },
          "metadata": {
            "tags": []
          },
          "execution_count": 7
        }
      ]
    },
    {
      "cell_type": "code",
      "metadata": {
        "id": "Ckhs1ewUHJ9g"
      },
      "source": [
        "predictions = dtree.predict(X_test)"
      ],
      "execution_count": 8,
      "outputs": []
    },
    {
      "cell_type": "code",
      "metadata": {
        "colab": {
          "base_uri": "https://localhost:8080/"
        },
        "id": "tzxxd7IsHNEw",
        "outputId": "afc13656-ea46-4dee-b2b3-fef477614afd"
      },
      "source": [
        "print(classification_report(y_test,predictions))\n",
        "print(confusion_matrix(y_test,predictions))"
      ],
      "execution_count": 9,
      "outputs": [
        {
          "output_type": "stream",
          "text": [
            "              precision    recall  f1-score   support\n",
            "\n",
            "         0.0       0.75      0.92      0.83        13\n",
            "         1.0       0.88      0.79      0.83        19\n",
            "         2.0       1.00      0.89      0.94         9\n",
            "\n",
            "    accuracy                           0.85        41\n",
            "   macro avg       0.88      0.87      0.87        41\n",
            "weighted avg       0.87      0.85      0.86        41\n",
            "\n",
            "[[12  1  0]\n",
            " [ 4 15  0]\n",
            " [ 0  1  8]]\n"
          ],
          "name": "stdout"
        }
      ]
    },
    {
      "cell_type": "code",
      "metadata": {
        "colab": {
          "base_uri": "https://localhost:8080/"
        },
        "id": "WU_-9rgjHP8X",
        "outputId": "25b8d71d-ee2d-48ad-a025-d62f0f3dc9fb"
      },
      "source": [
        "rfc = RandomForestClassifier(n_estimators=100,random_state = 0)\n",
        "rfc.fit(X_train, y_train)"
      ],
      "execution_count": 10,
      "outputs": [
        {
          "output_type": "execute_result",
          "data": {
            "text/plain": [
              "RandomForestClassifier(bootstrap=True, ccp_alpha=0.0, class_weight=None,\n",
              "                       criterion='gini', max_depth=None, max_features='auto',\n",
              "                       max_leaf_nodes=None, max_samples=None,\n",
              "                       min_impurity_decrease=0.0, min_impurity_split=None,\n",
              "                       min_samples_leaf=1, min_samples_split=2,\n",
              "                       min_weight_fraction_leaf=0.0, n_estimators=100,\n",
              "                       n_jobs=None, oob_score=False, random_state=0, verbose=0,\n",
              "                       warm_start=False)"
            ]
          },
          "metadata": {
            "tags": []
          },
          "execution_count": 10
        }
      ]
    },
    {
      "cell_type": "code",
      "metadata": {
        "colab": {
          "base_uri": "https://localhost:8080/"
        },
        "id": "4bqBW8TMHS4y",
        "outputId": "a4a0de16-0c1d-4b24-9dea-bd00c8822772"
      },
      "source": [
        "rfc_pred = rfc.predict(X_test)\n",
        "\n",
        "print(confusion_matrix(y_test,rfc_pred))\n",
        "\n",
        "print(classification_report(y_test,rfc_pred))"
      ],
      "execution_count": 11,
      "outputs": [
        {
          "output_type": "stream",
          "text": [
            "[[13  0  0]\n",
            " [ 3 16  0]\n",
            " [ 0  1  8]]\n",
            "              precision    recall  f1-score   support\n",
            "\n",
            "         0.0       0.81      1.00      0.90        13\n",
            "         1.0       0.94      0.84      0.89        19\n",
            "         2.0       1.00      0.89      0.94         9\n",
            "\n",
            "    accuracy                           0.90        41\n",
            "   macro avg       0.92      0.91      0.91        41\n",
            "weighted avg       0.91      0.90      0.90        41\n",
            "\n"
          ],
          "name": "stdout"
        }
      ]
    },
    {
      "cell_type": "code",
      "metadata": {
        "colab": {
          "base_uri": "https://localhost:8080/"
        },
        "id": "vN-_LNV_HWgz",
        "outputId": "a787e503-26fa-48e7-daf3-adcdf699e321"
      },
      "source": [
        "rfc.score(X_test,y_test)"
      ],
      "execution_count": 12,
      "outputs": [
        {
          "output_type": "execute_result",
          "data": {
            "text/plain": [
              "0.9024390243902439"
            ]
          },
          "metadata": {
            "tags": []
          },
          "execution_count": 12
        }
      ]
    },
    {
      "cell_type": "code",
      "metadata": {
        "id": "m9LOAKfvHkur"
      },
      "source": [
        ""
      ],
      "execution_count": null,
      "outputs": []
    }
  ]
}