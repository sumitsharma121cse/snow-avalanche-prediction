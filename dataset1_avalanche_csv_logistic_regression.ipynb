{
  "nbformat": 4,
  "nbformat_minor": 0,
  "metadata": {
    "colab": {
      "name": "dataset1 avalanche.csv logistic regression.ipynb",
      "provenance": [],
      "collapsed_sections": []
    },
    "kernelspec": {
      "name": "python3",
      "display_name": "Python 3"
    },
    "language_info": {
      "name": "python"
    }
  },
  "cells": [
    {
      "cell_type": "code",
      "metadata": {
        "id": "JiPGrr19LJ3A"
      },
      "source": [
        "import pandas as pd\n",
        "import numpy as np\n",
        "import seaborn as sns\n",
        "import matplotlib.pyplot as plt"
      ],
      "execution_count": 1,
      "outputs": []
    },
    {
      "cell_type": "code",
      "metadata": {
        "colab": {
          "base_uri": "https://localhost:8080/",
          "height": 419
        },
        "id": "Ytbj2hfxLgQT",
        "outputId": "63c54994-79cc-407c-fe2c-b9f4a7323b1b"
      },
      "source": [
        "dataset=pd.read_csv(\"Avalanche.csv\")\n",
        "dataset"
      ],
      "execution_count": 2,
      "outputs": [
        {
          "output_type": "execute_result",
          "data": {
            "text/html": [
              "<div>\n",
              "<style scoped>\n",
              "    .dataframe tbody tr th:only-of-type {\n",
              "        vertical-align: middle;\n",
              "    }\n",
              "\n",
              "    .dataframe tbody tr th {\n",
              "        vertical-align: top;\n",
              "    }\n",
              "\n",
              "    .dataframe thead th {\n",
              "        text-align: right;\n",
              "    }\n",
              "</style>\n",
              "<table border=\"1\" class=\"dataframe\">\n",
              "  <thead>\n",
              "    <tr style=\"text-align: right;\">\n",
              "      <th></th>\n",
              "      <th>Slope</th>\n",
              "      <th>Forest Density</th>\n",
              "      <th>Snow Density</th>\n",
              "      <th>Air Temperature</th>\n",
              "      <th>Wind</th>\n",
              "      <th>Prediction</th>\n",
              "    </tr>\n",
              "  </thead>\n",
              "  <tbody>\n",
              "    <tr>\n",
              "      <th>0</th>\n",
              "      <td>59</td>\n",
              "      <td>H</td>\n",
              "      <td>52</td>\n",
              "      <td>-17</td>\n",
              "      <td>19</td>\n",
              "      <td>2</td>\n",
              "    </tr>\n",
              "    <tr>\n",
              "      <th>1</th>\n",
              "      <td>24</td>\n",
              "      <td>L</td>\n",
              "      <td>23</td>\n",
              "      <td>-8</td>\n",
              "      <td>19</td>\n",
              "      <td>0</td>\n",
              "    </tr>\n",
              "    <tr>\n",
              "      <th>2</th>\n",
              "      <td>15</td>\n",
              "      <td>H</td>\n",
              "      <td>30</td>\n",
              "      <td>7</td>\n",
              "      <td>19</td>\n",
              "      <td>0</td>\n",
              "    </tr>\n",
              "    <tr>\n",
              "      <th>3</th>\n",
              "      <td>27</td>\n",
              "      <td>L</td>\n",
              "      <td>61</td>\n",
              "      <td>-13</td>\n",
              "      <td>25</td>\n",
              "      <td>1</td>\n",
              "    </tr>\n",
              "    <tr>\n",
              "      <th>4</th>\n",
              "      <td>34</td>\n",
              "      <td>H</td>\n",
              "      <td>4</td>\n",
              "      <td>-20</td>\n",
              "      <td>7</td>\n",
              "      <td>0</td>\n",
              "    </tr>\n",
              "    <tr>\n",
              "      <th>...</th>\n",
              "      <td>...</td>\n",
              "      <td>...</td>\n",
              "      <td>...</td>\n",
              "      <td>...</td>\n",
              "      <td>...</td>\n",
              "      <td>...</td>\n",
              "    </tr>\n",
              "    <tr>\n",
              "      <th>199</th>\n",
              "      <td>34</td>\n",
              "      <td>M</td>\n",
              "      <td>44</td>\n",
              "      <td>6</td>\n",
              "      <td>6</td>\n",
              "      <td>0</td>\n",
              "    </tr>\n",
              "    <tr>\n",
              "      <th>200</th>\n",
              "      <td>34</td>\n",
              "      <td>L</td>\n",
              "      <td>73</td>\n",
              "      <td>-34</td>\n",
              "      <td>13</td>\n",
              "      <td>2</td>\n",
              "    </tr>\n",
              "    <tr>\n",
              "      <th>201</th>\n",
              "      <td>34</td>\n",
              "      <td>M</td>\n",
              "      <td>33</td>\n",
              "      <td>13</td>\n",
              "      <td>35</td>\n",
              "      <td>1</td>\n",
              "    </tr>\n",
              "    <tr>\n",
              "      <th>202</th>\n",
              "      <td>34</td>\n",
              "      <td>L</td>\n",
              "      <td>51</td>\n",
              "      <td>-4</td>\n",
              "      <td>35</td>\n",
              "      <td>1</td>\n",
              "    </tr>\n",
              "    <tr>\n",
              "      <th>203</th>\n",
              "      <td>34</td>\n",
              "      <td>M</td>\n",
              "      <td>59</td>\n",
              "      <td>-29</td>\n",
              "      <td>8</td>\n",
              "      <td>2</td>\n",
              "    </tr>\n",
              "  </tbody>\n",
              "</table>\n",
              "<p>204 rows × 6 columns</p>\n",
              "</div>"
            ],
            "text/plain": [
              "     Slope Forest Density  Snow Density  Air Temperature  Wind  Prediction\n",
              "0       59              H            52              -17    19           2\n",
              "1       24              L            23               -8    19           0\n",
              "2       15              H            30                7    19           0\n",
              "3       27              L            61              -13    25           1\n",
              "4       34              H             4              -20     7           0\n",
              "..     ...            ...           ...              ...   ...         ...\n",
              "199     34              M            44                6     6           0\n",
              "200     34              L            73              -34    13           2\n",
              "201     34              M            33               13    35           1\n",
              "202     34              L            51               -4    35           1\n",
              "203     34              M            59              -29     8           2\n",
              "\n",
              "[204 rows x 6 columns]"
            ]
          },
          "metadata": {
            "tags": []
          },
          "execution_count": 2
        }
      ]
    },
    {
      "cell_type": "code",
      "metadata": {
        "id": "UajbAWIsLlxj"
      },
      "source": [
        "from sklearn.preprocessing import LabelEncoder\n",
        "le  = LabelEncoder()"
      ],
      "execution_count": 3,
      "outputs": []
    },
    {
      "cell_type": "code",
      "metadata": {
        "id": "UxPzr5fuLq7S"
      },
      "source": [
        "dataset[\"Forest Density\"] = le.fit_transform(dataset[\"Forest Density\"])"
      ],
      "execution_count": 4,
      "outputs": []
    },
    {
      "cell_type": "code",
      "metadata": {
        "id": "p2n4MaxQLtks"
      },
      "source": [
        "x = dataset.iloc[:,0:5].values\n",
        "y = dataset.iloc[:,5:6].values"
      ],
      "execution_count": 5,
      "outputs": []
    },
    {
      "cell_type": "code",
      "metadata": {
        "colab": {
          "base_uri": "https://localhost:8080/"
        },
        "id": "ptZiTTSHLwae",
        "outputId": "a772c224-88bd-43e7-8917-f82b867d6e89"
      },
      "source": [
        "y.shape\n",
        "y.ravel()"
      ],
      "execution_count": 6,
      "outputs": [
        {
          "output_type": "execute_result",
          "data": {
            "text/plain": [
              "array([2, 0, 0, 1, 0, 1, 2, 1, 0, 2, 1, 1, 2, 2, 2, 2, 2, 1, 1, 0, 1, 1,\n",
              "       0, 0, 2, 1, 1, 2, 2, 1, 1, 2, 1, 2, 0, 2, 1, 2, 2, 2, 1, 2, 1, 2,\n",
              "       1, 0, 1, 2, 0, 1, 2, 1, 0, 1, 1, 0, 0, 0, 2, 2, 1, 0, 0, 1, 0, 1,\n",
              "       1, 0, 2, 1, 2, 0, 1, 1, 2, 0, 2, 0, 0, 1, 1, 2, 1, 2, 1, 1, 1, 0,\n",
              "       2, 0, 1, 1, 1, 2, 2, 1, 2, 1, 2, 2, 0, 0, 1, 0, 1, 2, 1, 0, 2, 1,\n",
              "       1, 2, 2, 2, 2, 2, 1, 1, 0, 1, 1, 2, 0, 0, 1, 0, 1, 2, 1, 0, 2, 1,\n",
              "       1, 2, 2, 2, 2, 2, 1, 1, 0, 1, 1, 1, 0, 0, 0, 2, 2, 1, 0, 0, 1, 0,\n",
              "       1, 1, 0, 2, 1, 2, 0, 1, 1, 2, 0, 2, 2, 1, 0, 0, 1, 0, 1, 1, 0, 2,\n",
              "       1, 2, 0, 2, 2, 1, 0, 0, 1, 0, 1, 1, 0, 2, 1, 2, 0, 0, 1, 0, 1, 2,\n",
              "       1, 0, 2, 1, 1, 2])"
            ]
          },
          "metadata": {
            "tags": []
          },
          "execution_count": 6
        }
      ]
    },
    {
      "cell_type": "code",
      "metadata": {
        "id": "SLyH56gYL2rn"
      },
      "source": [
        "from sklearn.model_selection import train_test_split\n",
        "x_train,x_test,y_train,y_test = train_test_split(x,y,test_size=0.20,random_state=0)"
      ],
      "execution_count": 7,
      "outputs": []
    },
    {
      "cell_type": "code",
      "metadata": {
        "colab": {
          "base_uri": "https://localhost:8080/"
        },
        "id": "58os7Xd0L6tw",
        "outputId": "57bf057b-5470-40da-c5de-912e6eb14cb0"
      },
      "source": [
        "from sklearn.linear_model import LogisticRegression\n",
        "logistic = LogisticRegression()\n",
        "logistic.fit(x_train,y_train)"
      ],
      "execution_count": 8,
      "outputs": [
        {
          "output_type": "stream",
          "text": [
            "/usr/local/lib/python3.7/dist-packages/sklearn/utils/validation.py:760: DataConversionWarning: A column-vector y was passed when a 1d array was expected. Please change the shape of y to (n_samples, ), for example using ravel().\n",
            "  y = column_or_1d(y, warn=True)\n",
            "/usr/local/lib/python3.7/dist-packages/sklearn/linear_model/_logistic.py:940: ConvergenceWarning: lbfgs failed to converge (status=1):\n",
            "STOP: TOTAL NO. of ITERATIONS REACHED LIMIT.\n",
            "\n",
            "Increase the number of iterations (max_iter) or scale the data as shown in:\n",
            "    https://scikit-learn.org/stable/modules/preprocessing.html\n",
            "Please also refer to the documentation for alternative solver options:\n",
            "    https://scikit-learn.org/stable/modules/linear_model.html#logistic-regression\n",
            "  extra_warning_msg=_LOGISTIC_SOLVER_CONVERGENCE_MSG)\n"
          ],
          "name": "stderr"
        },
        {
          "output_type": "execute_result",
          "data": {
            "text/plain": [
              "LogisticRegression(C=1.0, class_weight=None, dual=False, fit_intercept=True,\n",
              "                   intercept_scaling=1, l1_ratio=None, max_iter=100,\n",
              "                   multi_class='auto', n_jobs=None, penalty='l2',\n",
              "                   random_state=None, solver='lbfgs', tol=0.0001, verbose=0,\n",
              "                   warm_start=False)"
            ]
          },
          "metadata": {
            "tags": []
          },
          "execution_count": 8
        }
      ]
    },
    {
      "cell_type": "code",
      "metadata": {
        "colab": {
          "base_uri": "https://localhost:8080/"
        },
        "id": "j-0zYNOfL9eW",
        "outputId": "724a459b-b281-4e0b-8738-02ee868bd949"
      },
      "source": [
        "y_pred = logistic.predict(x_test)\n",
        "y_pred"
      ],
      "execution_count": 9,
      "outputs": [
        {
          "output_type": "execute_result",
          "data": {
            "text/plain": [
              "array([1, 0, 1, 2, 0, 1, 1, 1, 2, 1, 0, 1, 2, 0, 1, 0, 1, 0, 0, 1, 0, 0,\n",
              "       1, 2, 1, 2, 1, 0, 1, 1, 2, 2, 2, 2, 0, 0, 0, 1, 0, 1, 0])"
            ]
          },
          "metadata": {
            "tags": []
          },
          "execution_count": 9
        }
      ]
    },
    {
      "cell_type": "code",
      "metadata": {
        "colab": {
          "base_uri": "https://localhost:8080/"
        },
        "id": "4hzWKKyHMA-m",
        "outputId": "0503f6ef-8bb9-496f-ac2d-f0720a730e48"
      },
      "source": [
        "from sklearn.metrics import accuracy_score\n",
        "logacc = accuracy_score(y_test,y_pred)\n",
        "logacc"
      ],
      "execution_count": 10,
      "outputs": [
        {
          "output_type": "execute_result",
          "data": {
            "text/plain": [
              "0.7073170731707317"
            ]
          },
          "metadata": {
            "tags": []
          },
          "execution_count": 10
        }
      ]
    },
    {
      "cell_type": "code",
      "metadata": {
        "colab": {
          "base_uri": "https://localhost:8080/"
        },
        "id": "eHY4e2A6MENn",
        "outputId": "4a0e18d5-b9b2-4fdc-c368-1bfebbf26a4b"
      },
      "source": [
        "from sklearn.metrics import confusion_matrix\n",
        "cm = confusion_matrix(y_test,y_pred)\n",
        "cm\n"
      ],
      "execution_count": 11,
      "outputs": [
        {
          "output_type": "execute_result",
          "data": {
            "text/plain": [
              "array([[10,  3,  0],\n",
              "       [ 5, 12,  2],\n",
              "       [ 0,  2,  7]])"
            ]
          },
          "metadata": {
            "tags": []
          },
          "execution_count": 11
        }
      ]
    },
    {
      "cell_type": "code",
      "metadata": {
        "id": "MaX4d1xtMHYD"
      },
      "source": [
        ""
      ],
      "execution_count": null,
      "outputs": []
    }
  ]
}