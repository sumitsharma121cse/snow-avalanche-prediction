{
  "nbformat": 4,
  "nbformat_minor": 0,
  "metadata": {
    "colab": {
      "name": "dataset 2 random forest normalized.ipynb",
      "provenance": [],
      "collapsed_sections": []
    },
    "kernelspec": {
      "name": "python3",
      "display_name": "Python 3"
    },
    "language_info": {
      "name": "python"
    }
  },
  "cells": [
    {
      "cell_type": "code",
      "metadata": {
        "id": "W372lHKtO7r9"
      },
      "source": [
        "import numpy as np\n",
        "import pandas as pd\n",
        "import matplotlib.pyplot as plt\n",
        "import seaborn as sns\n",
        "import scipy.stats as stats\n",
        "from sklearn.compose import ColumnTransformer\n",
        "from sklearn.preprocessing import OneHotEncoder as One\n",
        "from sklearn.model_selection import train_test_split\n",
        "from sklearn.ensemble import RandomForestClassifier\n",
        "from sklearn.tree import DecisionTreeClassifier\n",
        "from sklearn.metrics import accuracy_score,classification_report,confusion_matrix\n",
        "import pickle\n",
        "from sklearn.preprocessing import LabelEncoder, StandardScaler"
      ],
      "execution_count": 4,
      "outputs": []
    },
    {
      "cell_type": "code",
      "metadata": {
        "colab": {
          "base_uri": "https://localhost:8080/"
        },
        "id": "K9aSPKQ-P2Wq",
        "outputId": "446fb216-487d-413f-cbf1-3df79f6ccbf1"
      },
      "source": [
        "data=pd.read_csv(\"normalized.csv\")\n",
        "genre_list = data.iloc[:, -1]\n",
        "genre_list"
      ],
      "execution_count": 5,
      "outputs": [
        {
          "output_type": "execute_result",
          "data": {
            "text/plain": [
              "0       0\n",
              "1       0\n",
              "2       0\n",
              "3       0\n",
              "4       0\n",
              "       ..\n",
              "4211    2\n",
              "4212    2\n",
              "4213    2\n",
              "4214    2\n",
              "4215    2\n",
              "Name: Unnamed: 5, Length: 4216, dtype: int64"
            ]
          },
          "metadata": {
            "tags": []
          },
          "execution_count": 5
        }
      ]
    },
    {
      "cell_type": "code",
      "metadata": {
        "colab": {
          "base_uri": "https://localhost:8080/"
        },
        "id": "HJB5kXqfSLkE",
        "outputId": "22f9d337-278f-4dbc-f5f2-c9bbfa32b7a9"
      },
      "source": [
        "\n",
        "encoder = LabelEncoder()\n",
        "y = encoder.fit_transform(genre_list)\n",
        "y"
      ],
      "execution_count": 6,
      "outputs": [
        {
          "output_type": "execute_result",
          "data": {
            "text/plain": [
              "array([0, 0, 0, ..., 2, 2, 2])"
            ]
          },
          "metadata": {
            "tags": []
          },
          "execution_count": 6
        }
      ]
    },
    {
      "cell_type": "code",
      "metadata": {
        "colab": {
          "base_uri": "https://localhost:8080/"
        },
        "id": "sAWAhx6JSZOk",
        "outputId": "1ff7d895-e88b-44dd-87fe-def2199a68ac"
      },
      "source": [
        "y = np.array(y)\n",
        "y= y.reshape(4216,1)\n",
        "y"
      ],
      "execution_count": 7,
      "outputs": [
        {
          "output_type": "execute_result",
          "data": {
            "text/plain": [
              "array([[0],\n",
              "       [0],\n",
              "       [0],\n",
              "       ...,\n",
              "       [2],\n",
              "       [2],\n",
              "       [2]])"
            ]
          },
          "metadata": {
            "tags": []
          },
          "execution_count": 7
        }
      ]
    },
    {
      "cell_type": "code",
      "metadata": {
        "colab": {
          "base_uri": "https://localhost:8080/"
        },
        "id": "7vJoIMhRSgDi",
        "outputId": "a6d079d5-5c8a-4c95-cce3-5c04c1917534"
      },
      "source": [
        "scaler = StandardScaler()\n",
        "\n",
        "X = np.array(data.iloc[:, :-3], dtype = float)\n",
        "print(X)\n",
        "print(len(X))"
      ],
      "execution_count": 8,
      "outputs": [
        {
          "output_type": "stream",
          "text": [
            "[[47.33 89.9  16.46]\n",
            " [53.8  69.82 10.02]\n",
            " [55.02 65.32 12.31]\n",
            " ...\n",
            " [19.53 91.4  71.64]\n",
            " [19.54 91.   71.36]\n",
            " [19.91 91.5  71.97]]\n",
            "4216\n"
          ],
          "name": "stdout"
        }
      ]
    },
    {
      "cell_type": "code",
      "metadata": {
        "id": "1fOeuVUvSjbS"
      },
      "source": [
        "from sklearn.model_selection import train_test_split\n",
        "x_train,x_test,y_train,y_test=train_test_split(X,y,test_size=0.2,random_state=0)"
      ],
      "execution_count": 13,
      "outputs": []
    },
    {
      "cell_type": "code",
      "metadata": {
        "colab": {
          "base_uri": "https://localhost:8080/"
        },
        "id": "_liX86mSTvbY",
        "outputId": "31d62c25-d870-4059-b4ae-7953413a4f5a"
      },
      "source": [
        "\n",
        "rfc = RandomForestClassifier(n_estimators=100,random_state = 0)\n",
        "rfc.fit(x_train, y_train)"
      ],
      "execution_count": 14,
      "outputs": [
        {
          "output_type": "stream",
          "text": [
            "/usr/local/lib/python3.7/dist-packages/ipykernel_launcher.py:3: DataConversionWarning: A column-vector y was passed when a 1d array was expected. Please change the shape of y to (n_samples,), for example using ravel().\n",
            "  This is separate from the ipykernel package so we can avoid doing imports until\n"
          ],
          "name": "stderr"
        },
        {
          "output_type": "execute_result",
          "data": {
            "text/plain": [
              "RandomForestClassifier(bootstrap=True, ccp_alpha=0.0, class_weight=None,\n",
              "                       criterion='gini', max_depth=None, max_features='auto',\n",
              "                       max_leaf_nodes=None, max_samples=None,\n",
              "                       min_impurity_decrease=0.0, min_impurity_split=None,\n",
              "                       min_samples_leaf=1, min_samples_split=2,\n",
              "                       min_weight_fraction_leaf=0.0, n_estimators=100,\n",
              "                       n_jobs=None, oob_score=False, random_state=0, verbose=0,\n",
              "                       warm_start=False)"
            ]
          },
          "metadata": {
            "tags": []
          },
          "execution_count": 14
        }
      ]
    },
    {
      "cell_type": "code",
      "metadata": {
        "colab": {
          "base_uri": "https://localhost:8080/"
        },
        "id": "dB0jjGdsT43u",
        "outputId": "9b39b59e-5052-4f99-a0b2-f34bb2377c81"
      },
      "source": [
        "rfc_pred = rfc.predict(x_test)\n",
        "\n",
        "print(confusion_matrix(y_test,rfc_pred))\n",
        "\n",
        "print(classification_report(y_test,rfc_pred))"
      ],
      "execution_count": 15,
      "outputs": [
        {
          "output_type": "stream",
          "text": [
            "[[199   1  36]\n",
            " [  4  15   4]\n",
            " [ 12   1 572]]\n",
            "              precision    recall  f1-score   support\n",
            "\n",
            "           0       0.93      0.84      0.88       236\n",
            "           1       0.88      0.65      0.75        23\n",
            "           2       0.93      0.98      0.96       585\n",
            "\n",
            "    accuracy                           0.93       844\n",
            "   macro avg       0.91      0.82      0.86       844\n",
            "weighted avg       0.93      0.93      0.93       844\n",
            "\n"
          ],
          "name": "stdout"
        }
      ]
    },
    {
      "cell_type": "code",
      "metadata": {
        "colab": {
          "base_uri": "https://localhost:8080/"
        },
        "id": "K0-X2S31UDFX",
        "outputId": "2f2df20f-b729-41db-d081-e4e660716a44"
      },
      "source": [
        "\n",
        "rfc.score(x_test,y_test)\n"
      ],
      "execution_count": 16,
      "outputs": [
        {
          "output_type": "execute_result",
          "data": {
            "text/plain": [
              "0.9312796208530806"
            ]
          },
          "metadata": {
            "tags": []
          },
          "execution_count": 16
        }
      ]
    },
    {
      "cell_type": "code",
      "metadata": {
        "id": "gsZUlFQEUNCv"
      },
      "source": [
        ""
      ],
      "execution_count": null,
      "outputs": []
    }
  ]
}