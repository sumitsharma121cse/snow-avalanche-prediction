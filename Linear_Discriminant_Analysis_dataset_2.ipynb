{
  "nbformat": 4,
  "nbformat_minor": 0,
  "metadata": {
    "colab": {
      "name": "Linear Discriminant Analysis dataset 2.ipynb",
      "provenance": [],
      "collapsed_sections": []
    },
    "kernelspec": {
      "name": "python3",
      "display_name": "Python 3"
    },
    "language_info": {
      "name": "python"
    }
  },
  "cells": [
    {
      "cell_type": "code",
      "metadata": {
        "colab": {
          "base_uri": "https://localhost:8080/"
        },
        "id": "OEyMmoywLF3m",
        "outputId": "e326596a-9a47-4200-cd32-a44c1fbc288b"
      },
      "source": [
        "import numpy as np\n",
        "import pandas as pd\n",
        "\n",
        "from sklearn.preprocessing import LabelEncoder, StandardScaler\n",
        "\n",
        "data=pd.read_csv(\"normalized.csv\")\n",
        "\n",
        "genre_list = data.iloc[:, -1]\n",
        "genre_list\n",
        "\n",
        "encoder = LabelEncoder()\n",
        "y = encoder.fit_transform(genre_list)\n",
        "\n",
        "y = np.array(y)\n",
        "y= y.reshape(4216,1)\n",
        "y\n",
        "\n",
        "X = np.array(data.iloc[:, :-3], dtype = float)\n",
        "print(X)\n",
        "print(len(X))"
      ],
      "execution_count": 1,
      "outputs": [
        {
          "output_type": "stream",
          "text": [
            "[[47.33 89.9  16.46]\n",
            " [53.8  69.82 10.02]\n",
            " [55.02 65.32 12.31]\n",
            " ...\n",
            " [19.53 91.4  71.64]\n",
            " [19.54 91.   71.36]\n",
            " [19.91 91.5  71.97]]\n",
            "4216\n"
          ],
          "name": "stdout"
        }
      ]
    },
    {
      "cell_type": "code",
      "metadata": {
        "id": "qNpwgyt2LR5J"
      },
      "source": [
        "\n",
        "# evaluate a lda model on the dataset\n",
        "from numpy import mean\n",
        "from numpy import std\n",
        "#from sklearn.datasets import make_classification\n",
        "from sklearn.model_selection import cross_val_score\n",
        "from sklearn.model_selection import RepeatedStratifiedKFold\n",
        "from sklearn.discriminant_analysis import LinearDiscriminantAnalysis"
      ],
      "execution_count": 2,
      "outputs": []
    },
    {
      "cell_type": "code",
      "metadata": {
        "colab": {
          "base_uri": "https://localhost:8080/"
        },
        "id": "Bk7pSObhLYKR",
        "outputId": "f7997458-a39e-4af3-b695-18e2432b6c15"
      },
      "source": [
        "# define model\n",
        "model = LinearDiscriminantAnalysis()\n",
        "# define model evaluation method\n",
        "cv = RepeatedStratifiedKFold(n_splits=10, n_repeats=3, random_state=1)\n",
        "# evaluate model\n",
        "scores = cross_val_score(model, X, y, scoring='accuracy', cv=cv, n_jobs=-1)\n",
        "# summarize result\n",
        "print('Mean Accuracy: %.3f (%.3f)' % (mean(scores), std(scores)))"
      ],
      "execution_count": 3,
      "outputs": [
        {
          "output_type": "stream",
          "text": [
            "Mean Accuracy: 0.872 (0.016)\n"
          ],
          "name": "stdout"
        }
      ]
    },
    {
      "cell_type": "code",
      "metadata": {
        "id": "kAHhbEPfLgmA"
      },
      "source": [
        "# accuracy 87.2 %"
      ],
      "execution_count": null,
      "outputs": []
    }
  ]
}