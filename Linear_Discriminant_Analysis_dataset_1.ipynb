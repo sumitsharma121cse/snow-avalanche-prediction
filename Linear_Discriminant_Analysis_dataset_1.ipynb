{
  "nbformat": 4,
  "nbformat_minor": 0,
  "metadata": {
    "colab": {
      "name": "Linear Discriminant Analysis dataset 1.ipynb",
      "provenance": [],
      "collapsed_sections": []
    },
    "kernelspec": {
      "name": "python3",
      "display_name": "Python 3"
    },
    "language_info": {
      "name": "python"
    }
  },
  "cells": [
    {
      "cell_type": "code",
      "metadata": {
        "id": "WltcjKVgIkSl"
      },
      "source": [
        "import pandas as pd\n",
        "import numpy as np\n",
        "import seaborn as sns\n",
        "import matplotlib.pyplot as plt\n",
        "dataset=pd.read_csv(\"Avalanche.csv\")\n",
        "dataset\n",
        "from sklearn.preprocessing import LabelEncoder\n",
        "le  = LabelEncoder()\n",
        "dataset[\"Forest Density\"] = le.fit_transform(dataset[\"Forest Density\"])\n",
        "x = dataset.iloc[:,0:5].values\n",
        "y = dataset.iloc[:,5:6].values"
      ],
      "execution_count": 1,
      "outputs": []
    },
    {
      "cell_type": "code",
      "metadata": {
        "id": "J4XpE0qJJo9x"
      },
      "source": [
        "\n",
        "# evaluate a lda model on the dataset\n",
        "from numpy import mean\n",
        "from numpy import std\n",
        "#from sklearn.datasets import make_classification\n",
        "from sklearn.model_selection import cross_val_score\n",
        "from sklearn.model_selection import RepeatedStratifiedKFold\n",
        "from sklearn.discriminant_analysis import LinearDiscriminantAnalysis\n"
      ],
      "execution_count": 2,
      "outputs": []
    },
    {
      "cell_type": "code",
      "metadata": {
        "colab": {
          "base_uri": "https://localhost:8080/"
        },
        "id": "fBToKCMZJ0AM",
        "outputId": "5ef562fd-10d8-4ee4-b65c-ccefb6615616"
      },
      "source": [
        "# define model\n",
        "model = LinearDiscriminantAnalysis()\n",
        "# define model evaluation method\n",
        "cv = RepeatedStratifiedKFold(n_splits=10, n_repeats=3, random_state=1)\n",
        "# evaluate model\n",
        "scores = cross_val_score(model, x, y, scoring='accuracy', cv=cv, n_jobs=-1)\n",
        "# summarize result\n",
        "print('Mean Accuracy: %.3f (%.3f)' % (mean(scores), std(scores)))\n"
      ],
      "execution_count": 3,
      "outputs": [
        {
          "output_type": "stream",
          "text": [
            "Mean Accuracy: 0.631 (0.096)\n"
          ],
          "name": "stdout"
        }
      ]
    },
    {
      "cell_type": "code",
      "metadata": {
        "id": "VI9XgshHKS4z"
      },
      "source": [
        "#accuracy 63.1 %"
      ],
      "execution_count": null,
      "outputs": []
    }
  ]
}